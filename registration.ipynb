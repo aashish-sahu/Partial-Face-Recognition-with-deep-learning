{
 "cells": [
  {
   "cell_type": "code",
   "execution_count": 2,
   "id": "0b6daae7-d007-4a2c-ac4a-a116981277ee",
   "metadata": {},
   "outputs": [
    {
     "name": "stdin",
     "output_type": "stream",
     "text": [
      "Enter your ADHAAR Number:  12345\n"
     ]
    },
    {
     "name": "stdout",
     "output_type": "stream",
     "text": [
      "Captured 21 eye images\n",
      "Eye data has been stored in the database.\n"
     ]
    }
   ],
   "source": [
    "import cv2\n",
    "import pickle\n",
    "import os\n",
    "import numpy as np\n",
    "import mysql.connector\n",
    "\n",
    "# Function to connect to the MySQL database\n",
    "def connect_db():\n",
    "    return mysql.connector.connect(\n",
    "        host='localhost',\n",
    "        user='root',\n",
    "        password='Ashu@1996',\n",
    "        database='myproject'\n",
    "    )\n",
    "\n",
    "# Function to insert eye data into the database\n",
    "def insert_eye_data(adhaar_number, eye):\n",
    "    conn = connect_db()\n",
    "    cursor = conn.cursor()\n",
    "    \n",
    "    # SQL query to insert data into the voterdata table\n",
    "    add_eye = (\"INSERT INTO eyedata \"\n",
    "               \"(adhar_number, eye) \"\n",
    "               \"VALUES (%s, %s)\")\n",
    "    \n",
    "    data_eye = (adhaar_number, eye)\n",
    "    cursor.execute(add_eye, data_eye)\n",
    "    \n",
    "    conn.commit()\n",
    "    cursor.close()\n",
    "    conn.close()\n",
    "\n",
    "# Initialize video capture from the default camera (0)\n",
    "video = cv2.VideoCapture(0)\n",
    "# Load the Haar Cascade classifier for eye detection\n",
    "eye_cascade = cv2.CascadeClassifier(\"c:/users/user/anaconda3/lib/site-packages/cv2/data/haarcascade_eye.xml\")\n",
    "\n",
    "eyes_data = []\n",
    "i = 0\n",
    "name = input('Enter your ADHAAR Number: ')\n",
    "framesTotal = 21  # Total number of frames to capture\n",
    "captureAfterFrame = 4  # Capture an image every 'captureAfterFrame' frames\n",
    "\n",
    "while True:\n",
    "    ret, frame = video.read()  # Capture frame-by-frame from the video feed\n",
    "    gray = cv2.cvtColor(frame, cv2.COLOR_BGR2GRAY)  # Convert the frame to grayscale for eye detection\n",
    "    eyes = eye_cascade.detectMultiScale(gray, 1.3, 5)  # Detect eyes in the grayscale image\n",
    "    \n",
    "    # Iterate over detected eyes\n",
    "    for (x, y, w, h) in eyes:\n",
    "        crop_img = frame[y:y+h, x:x+w]  # Crop the detected eye from the frame\n",
    "        resized_img = cv2.resize(crop_img, (50, 50))  # Resize the eye image to 50x50 pixels\n",
    "        \n",
    "        # Capture image every 'captureAfterFrame' frames until the total frames are reached\n",
    "        if len(eyes_data) <= framesTotal and i % captureAfterFrame == 0:\n",
    "            eyes_data.append(resized_img)  # Add the resized image to the list\n",
    "        \n",
    "        i += 1\n",
    "        # Display the number of captured eye images on the frame\n",
    "        cv2.putText(frame, str(len(eyes_data)), (50, 50), cv2.FONT_HERSHEY_COMPLEX, 1, (50, 50, 255), 1)\n",
    "        # Draw a rectangle around the detected eye\n",
    "        cv2.rectangle(frame, (x, y), (x+w, y+h), (50, 50, 255), 1)\n",
    "    \n",
    "    cv2.imshow('frame', frame)\n",
    "    \n",
    "    k = cv2.waitKey(1)\n",
    "    # Exit loop if 'q' is pressed or enough frames are captured\n",
    "    if k == ord('q') or len(eyes_data) >= framesTotal:\n",
    "        break\n",
    "\n",
    "video.release()  # Release the video capture object\n",
    "cv2.destroyAllWindows()  # Close all OpenCV windows\n",
    "\n",
    "print(f\"Captured {len(eyes_data)} eye images\")  # Print the number of captured eye images\n",
    "\n",
    "# Convert each eye image to bytes and store it in the database\n",
    "for img in eyes_data:\n",
    "    success, img_encoded = cv2.imencode('.jpg', img)  # Encode the image as JPEG\n",
    "    if success:\n",
    "        img_bytes = img_encoded.tobytes()  #Convert encoded image to bytes\n",
    "        insert_eye_data(name, img_bytes)  #Insert image data into the database\n",
    "\n",
    "print(\"Eye data has been stored in the database.\")  #Confirmation message\n"
   ]
  }
 ],
 "metadata": {
  "kernelspec": {
   "display_name": "Python 3 (ipykernel)",
   "language": "python",
   "name": "python3"
  },
  "language_info": {
   "codemirror_mode": {
    "name": "ipython",
    "version": 3
   },
   "file_extension": ".py",
   "mimetype": "text/x-python",
   "name": "python",
   "nbconvert_exporter": "python",
   "pygments_lexer": "ipython3",
   "version": "3.12.4"
  }
 },
 "nbformat": 4,
 "nbformat_minor": 5
}
